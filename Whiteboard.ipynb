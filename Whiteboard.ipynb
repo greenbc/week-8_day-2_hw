{
 "cells": [
  {
   "cell_type": "markdown",
   "metadata": {},
   "source": [
    "Degree of an Array\n",
    "-------------\n",
    "Given a non-empty array of non-negative integers nums, the degree of this array is defined as the maximum frequency of any one of its elements.\n",
    "Your task is to find the smallest possible length of a (contiguous) subarray of nums, that has the same degree as nums.\n",
    "Example 1:\n",
    "Input: nums = [1,2,2,3,1]\n",
    "Output: 2\n",
    "Explanation:\n",
    "The input array has a degree of 2 because both elements 1 and 2 appear twice.\n",
    "Of the subarrays that have the same degree:\n",
    "[1, 2, 2, 3, 1], [1, 2, 2, 3], [2, 2, 3, 1], [1, 2, 2], [2, 2, 3], [2, 2]\n",
    "The shortest length is 2. So return 2.\n",
    "Example 2:\n",
    "Input: nums = [1,2,2,3,1,4,2]\n",
    "Output: 3\n",
    "Explanation:\n",
    "The degree is 3 because the element 2 is repeated 3 times.\n",
    "So [2,2,3,1,4,2] is the shortest subarray, therefore returning 3.\n"
   ]
  },
  {
   "cell_type": "code",
   "execution_count": 15,
   "metadata": {},
   "outputs": [
    {
     "name": "stdout",
     "output_type": "stream",
     "text": [
      "2\n",
      "6\n"
     ]
    }
   ],
   "source": [
    "def degree(arr):\n",
    "    count = 0\n",
    "    count_list = []\n",
    "    for i in arr:\n",
    "        if arr.count(i) > count:\n",
    "            count = arr.count(i)\n",
    "            count_list.append(i)\n",
    "        elif arr.count(i) == count:\n",
    "            count_list.append(i)\n",
    "            \n",
    "    while True:\n",
    "        if arr[0] != max(count_list):\n",
    "            arr.remove(arr[0])\n",
    "        elif arr[-1] != max(count_list):\n",
    "            arr.remove(arr[-1])\n",
    "        else:\n",
    "            return len(arr)\n",
    "print(degree([1,2,2,3,1]))\n",
    "print(degree([1,2,2,3,1,4,2]))"
   ]
  }
 ],
 "metadata": {
  "kernelspec": {
   "display_name": "Python 3",
   "language": "python",
   "name": "python3"
  },
  "language_info": {
   "codemirror_mode": {
    "name": "ipython",
    "version": 3
   },
   "file_extension": ".py",
   "mimetype": "text/x-python",
   "name": "python",
   "nbconvert_exporter": "python",
   "pygments_lexer": "ipython3",
   "version": "3.7.1"
  }
 },
 "nbformat": 4,
 "nbformat_minor": 2
}
